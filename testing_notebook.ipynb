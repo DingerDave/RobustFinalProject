{
 "cells": [
  {
   "cell_type": "markdown",
   "metadata": {},
   "source": [
    "# Data Prep and Loading"
   ]
  },
  {
   "cell_type": "code",
   "execution_count": 1,
   "metadata": {},
   "outputs": [],
   "source": [
    "import opendp.prelude as dp\n",
    "dp.enable_features('contrib')\n",
    "import numpy as np \n",
    "import pandas as pd\n",
    "from race_imputation import race_imputation_model\n",
    "import data_preprocessing_utils\n",
    "# force all columns to show on head call\n",
    "pd.set_option('display.max_columns', None)\n"
   ]
  },
  {
   "cell_type": "code",
   "execution_count": 9,
   "metadata": {},
   "outputs": [
    {
     "name": "stderr",
     "output_type": "stream",
     "text": [
      "C:\\Users\\14129\\AppData\\Local\\Temp\\ipykernel_15400\\3472333799.py:1: DtypeWarning: Columns (22,23,24,26,27,28,29,30,31,32,33,38,43,44) have mixed types. Specify dtype option on import or set low_memory=False.\n",
      "  voter_data_all = pd.read_csv('./data/hmda_data_nc.csv')\n"
     ]
    }
   ],
   "source": [
    "voter_data_all = pd.read_csv('./data/hmda_data_nc.csv')\n",
    "\n",
    "counts = voter_data_all[\"derived_race\"].value_counts()\n",
    "# get the proportion of each\n",
    "proportions = counts/counts.sum()\n"
   ]
  },
  {
   "cell_type": "code",
   "execution_count": 12,
   "metadata": {},
   "outputs": [
    {
     "data": {
      "text/plain": [
       "derived_race\n",
       "White                                        0.718659\n",
       "Race Not Available                           0.000000\n",
       "Black or African American                    0.177355\n",
       "Asian                                        0.064352\n",
       "Joint                                        0.022906\n",
       "American Indian or Alaska Native             0.010825\n",
       "2 or more minority races                     0.003498\n",
       "Native Hawaiian or Other Pacific Islander    0.002095\n",
       "Free Form Text Only                          0.000311\n",
       "Name: count, dtype: float64"
      ]
     },
     "execution_count": 12,
     "metadata": {},
     "output_type": "execute_result"
    }
   ],
   "source": [
    "counts[\"Race Not Available\"] = 0\n",
    "proportions = counts/counts.sum()\n",
    "proportions"
   ]
  },
  {
   "cell_type": "code",
   "execution_count": 15,
   "metadata": {},
   "outputs": [
    {
     "data": {
      "text/plain": [
       "denial_reason-1\n",
       "10      380332\n",
       "1        28622\n",
       "3        25906\n",
       "4         9010\n",
       "7         6662\n",
       "9         5891\n",
       "6         4749\n",
       "1111      2590\n",
       "5         1106\n",
       "2          817\n",
       "8            7\n",
       "Name: count, dtype: int64"
      ]
     },
     "execution_count": 15,
     "metadata": {},
     "output_type": "execute_result"
    }
   ],
   "source": [
    "voter_data_all[\"denial_reason-1\"].value_counts()"
   ]
  }
 ],
 "metadata": {
  "kernelspec": {
   "display_name": "robust_env",
   "language": "python",
   "name": "python3"
  },
  "language_info": {
   "codemirror_mode": {
    "name": "ipython",
    "version": 3
   },
   "file_extension": ".py",
   "mimetype": "text/x-python",
   "name": "python",
   "nbconvert_exporter": "python",
   "pygments_lexer": "ipython3",
   "version": "3.11.9"
  }
 },
 "nbformat": 4,
 "nbformat_minor": 2
}
