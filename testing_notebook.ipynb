{
 "cells": [
  {
   "cell_type": "markdown",
   "metadata": {},
   "source": [
    "# Data Prep and Loading\n"
   ]
  },
  {
   "cell_type": "code",
   "execution_count": 2,
   "metadata": {},
   "outputs": [],
   "source": [
    "# import opendp.prelude as dp\n",
    "# dp.enable_features('contrib')\n",
    "import numpy as np \n",
    "import pandas as pd\n",
    "from race_imputation.race_imputation_model import RaceImputationModel\n",
    "import data_preprocessing_utils\n",
    "# force all columns to show on head call\n",
    "pd.set_option('display.max_columns', None)\n"
   ]
  },
  {
   "cell_type": "code",
   "execution_count": 3,
   "metadata": {},
   "outputs": [],
   "source": [
    "voter_data_all = pd.read_csv('./data/combined_nc.csv')\n",
    "voter_data = data_preprocessing_utils.prep_voter_dataframe(voter_data_all)\n",
    "\n",
    "imputation_model = RaceImputationModel([\"tract_code\"],[\"race\"])\n",
    "imputation_model._fit(voter_data_all)"
   ]
  },
  {
   "cell_type": "code",
   "execution_count": 4,
   "metadata": {},
   "outputs": [
    {
     "name": "stderr",
     "output_type": "stream",
     "text": [
      "/var/folders/b4/_njd1bdd02gbnm5ybyykbzm00000gn/T/ipykernel_28980/1365486614.py:1: DtypeWarning: Columns (22,23,24,26,27,28,29,30,31,32,33,38,43,44) have mixed types. Specify dtype option on import or set low_memory=False.\n",
      "  housing_data_all = pd.read_csv('./data/hmda_nc.csv')\n",
      "/Users/jenniferwang/Classes/robust/RobustFinalProject/data_preprocessing_utils.py:39: SettingWithCopyWarning: \n",
      "A value is trying to be set on a copy of a slice from a DataFrame\n",
      "\n",
      "See the caveats in the documentation: https://pandas.pydata.org/pandas-docs/stable/user_guide/indexing.html#returning-a-view-versus-a-copy\n",
      "  housing_data.rename(columns={'derived_race': 'race', \"census_tract\":\"tract_code\"}, inplace=True)\n"
     ]
    },
    {
     "name": "stdout",
     "output_type": "stream",
     "text": [
      "['020800' '041100' '042300' ... '010709' '001927' '980300']\n"
     ]
    }
   ],
   "source": [
    "housing_data_all = pd.read_csv('./data/hmda_nc.csv')\n",
    "housing_data = data_preprocessing_utils.prep_housing_dataframe(housing_data_all)\n",
    "\n",
    "print(housing_data['tract_code'].unique())\n"
   ]
  },
  {
   "cell_type": "code",
   "execution_count": 5,
   "metadata": {},
   "outputs": [
    {
     "data": {
      "text/plain": [
       "array(['Race Not Available', 'black', 'white', 'asian', 'Joint',\n",
       "       'Native Hawaiian or Other Pacific Islander',\n",
       "       'American Indian or Alaska Native', '2 or more minority races',\n",
       "       'other'], dtype=object)"
      ]
     },
     "execution_count": 5,
     "metadata": {},
     "output_type": "execute_result"
    }
   ],
   "source": [
    "counts = housing_data[\"race\"].value_counts()\n",
    "# get the proportion of each\n",
    "proportions = counts/counts.sum()\n",
    "housing_data[\"race\"].unique()"
   ]
  },
  {
   "cell_type": "code",
   "execution_count": 6,
   "metadata": {},
   "outputs": [
    {
     "data": {
      "text/plain": [
       "race\n",
       "white                                        0.720196\n",
       "Race Not Available                           0.000000\n",
       "black                                        0.176173\n",
       "asian                                        0.064581\n",
       "Joint                                        0.022799\n",
       "American Indian or Alaska Native             0.010384\n",
       "2 or more minority races                     0.003474\n",
       "Native Hawaiian or Other Pacific Islander    0.002079\n",
       "other                                        0.000313\n",
       "Name: count, dtype: float64"
      ]
     },
     "execution_count": 6,
     "metadata": {},
     "output_type": "execute_result"
    }
   ],
   "source": [
    "# Get the true proportions of race in the dataset, ignore Race Not Available\n",
    "counts[\"Race Not Available\"] = 0\n",
    "proportions = counts/counts.sum()\n",
    "proportions"
   ]
  },
  {
   "cell_type": "code",
   "execution_count": 7,
   "metadata": {},
   "outputs": [
    {
     "name": "stdout",
     "output_type": "stream",
     "text": [
      "['white' 'black' 'asian']\n",
      "accuracy_argmax:  0.7268935079726652\n",
      "accuracy_sample:  0.6094504555808656\n",
      "accuracy_threshold_25:  0.7268935079726652\n",
      "accuracy_threshold_50:  0.7069561503416857\n",
      "accuracy_threshold_75:  0.49005410022779045\n",
      "accuracy_threshold_95:  0.009658314350797266\n"
     ]
    }
   ],
   "source": [
    "housing_data_imputated = pd.read_csv('./data/hmda_nc_ri.csv')\n",
    "\n",
    "# get the accuracies of the imputations\n",
    "dp_housing_data_imputation_comp = housing_data_imputated[housing_data_imputated[\"race\"]!= \"Race Not Available\"]\n",
    "print(dp_housing_data_imputation_comp[\"pred_ri_argmax\"].unique())\n",
    "accuracy_argmax = sum(dp_housing_data_imputation_comp[\"pred_ri_argmax\"] == dp_housing_data_imputation_comp[\"race\"])/len(dp_housing_data_imputation_comp)\n",
    "accuracy_sample = sum(dp_housing_data_imputation_comp[\"pred_ri_sample\"] == dp_housing_data_imputation_comp[\"race\"])/len(dp_housing_data_imputation_comp)\n",
    "accuracy_threshold_25 = sum(dp_housing_data_imputation_comp[\"pred_ri_threshold_25\"] == dp_housing_data_imputation_comp[\"race\"])/len(dp_housing_data_imputation_comp)\n",
    "accuracy_threshold_50 = sum(dp_housing_data_imputation_comp[\"pred_ri_threshold_5\"] == dp_housing_data_imputation_comp[\"race\"])/len(dp_housing_data_imputation_comp)\n",
    "accuracy_threshold_75 = sum(dp_housing_data_imputation_comp[\"pred_ri_threshold_75\"] == dp_housing_data_imputation_comp[\"race\"])/len(dp_housing_data_imputation_comp)\n",
    "accuracy_threshold_95 = sum(dp_housing_data_imputation_comp[\"pred_ri_threshold_95\"] == dp_housing_data_imputation_comp[\"race\"])/len(dp_housing_data_imputation_comp)\n",
    "print(\"accuracy_argmax: \", accuracy_argmax)\n",
    "print(\"accuracy_sample: \", accuracy_sample)\n",
    "print(\"accuracy_threshold_25: \", accuracy_threshold_25)\n",
    "print(\"accuracy_threshold_50: \", accuracy_threshold_50)\n",
    "print(\"accuracy_threshold_75: \", accuracy_threshold_75)\n",
    "print(\"accuracy_threshold_95: \", accuracy_threshold_95)"
   ]
  },
  {
   "cell_type": "code",
   "execution_count": 11,
   "metadata": {},
   "outputs": [
    {
     "name": "stdout",
     "output_type": "stream",
     "text": [
      "Epsilon: 1\n",
      "accuracy_argmax:  0.7268935079726652\n",
      "accuracy_sample:  0.6103274487471526\n"
     ]
    }
   ],
   "source": [
    "# Load the imputed housing data\n",
    "dp_housing_data_imputated = pd.read_csv('./data/hmda_nc_dp_ri_results.csv')\n",
    "\n",
    "# get the accuracies of the imputations\n",
    "dp_housing_data_imputation_comp = dp_housing_data_imputated[dp_housing_data_imputated[\"race\"] != \"Race Not Available\"]\n",
    "\n",
    "# Define epsilon thresholds\n",
    "epsilon_thresholds = [1]  # Example epsilon values\n",
    "accuracies = {}\n",
    "\n",
    "# Loop through each epsilon threshold\n",
    "for epsilon in epsilon_thresholds:\n",
    "    # Calculate accuracies for each threshold\n",
    "    accuracy_argmax = sum(dp_housing_data_imputation_comp[f\"pred_ri_argmax_epsilon_{epsilon}\"] == dp_housing_data_imputation_comp[\"race\"]) / len(dp_housing_data_imputation_comp)\n",
    "    accuracy_sample = sum(dp_housing_data_imputation_comp[f\"pred_ri_sample_epsilon_{epsilon}\"] == dp_housing_data_imputation_comp[\"race\"]) / len(dp_housing_data_imputation_comp)\n",
    "    # accuracy_threshold_25 = sum(dp_housing_data_imputation_comp[f\"pred_ri_threshold_0.25_epsilon_{epsilon}\"] == dp_housing_data_imputation_comp[\"race\"]) / len(dp_housing_data_imputation_comp)\n",
    "    # accuracy_threshold_50 = sum(dp_housing_data_imputation_comp[f\"pred_ri_threshold_0.5_epsilon_{epsilon}\"] == dp_housing_data_imputation_comp[\"race\"]) / len(dp_housing_data_imputation_comp)\n",
    "    # accuracy_threshold_75 = sum(dp_housing_data_imputation_comp[f\"pred_ri_threshold_0.75_epsilon_{epsilon}\"] == dp_housing_data_imputation_comp[\"race\"]) / len(dp_housing_data_imputation_comp)\n",
    "    # accuracy_threshold_95 = sum(dp_housing_data_imputation_comp[f\"pred_ri_threshold_0.95_epsilon_{epsilon}\"] == dp_housing_data_imputation_comp[\"race\"]) / len(dp_housing_data_imputation_comp)\n",
    "\n",
    "    # Store accuracies for the current epsilon\n",
    "    accuracies[epsilon] = {\n",
    "        \"accuracy_argmax\": accuracy_argmax,\n",
    "        \"accuracy_sample\": accuracy_sample,\n",
    "        # \"accuracy_threshold_25\": accuracy_threshold_25,\n",
    "        # \"accuracy_threshold_50\": accuracy_threshold_50,\n",
    "        # \"accuracy_threshold_75\": accuracy_threshold_75,\n",
    "        # \"accuracy_threshold_95\": accuracy_threshold_95,\n",
    "    }\n",
    "\n",
    "# Print accuracies for each epsilon threshold\n",
    "for epsilon, accuracy in accuracies.items():\n",
    "    print(f\"Epsilon: {epsilon}\")\n",
    "    print(\"accuracy_argmax: \", accuracy[\"accuracy_argmax\"])\n",
    "    print(\"accuracy_sample: \", accuracy[\"accuracy_sample\"])\n",
    "    # print(\"accuracy_threshold_25: \", accuracy[\"accuracy_threshold_25\"])\n",
    "    # print(\"accuracy_threshold_50: \", accuracy[\"accuracy_threshold_50\"])\n",
    "    # print(\"accuracy_threshold_75: \", accuracy[\"accuracy_threshold_75\"])\n",
    "    # print(\"accuracy_threshold_95: \", accuracy[\"accuracy_threshold_95\"])"
   ]
  },
  {
   "cell_type": "code",
   "execution_count": 22,
   "metadata": {},
   "outputs": [
    {
     "data": {
      "text/plain": [
       "Index(['race', 'tract_code', 'derived_sex', 'denial_reason-1', 'denied',\n",
       "       'pred_ri_argmax', 'pred_ri_sample', 'pred_ri_threshold_25',\n",
       "       'pred_ri_threshold_5', 'pred_ri_threshold_75', 'pred_ri_threshold_95'],\n",
       "      dtype='object')"
      ]
     },
     "execution_count": 22,
     "metadata": {},
     "output_type": "execute_result"
    }
   ],
   "source": [
    "housing_data_imputated.columns"
   ]
  },
  {
   "cell_type": "code",
   "execution_count": 26,
   "metadata": {},
   "outputs": [
    {
     "name": "stdout",
     "output_type": "stream",
     "text": [
      "dict_items([((2, 0), 0.8230275879774548), ((1, 0), 0.7971925760458896), ((2, 1), 0.1769724120225452), ((1, 1), 0.20280742395411047), ((0, 0), 0.5960264900662252), ((0, 1), 0.40397350993377484)])\n",
      "{0: 'pred_ri_argmax', 1: 'denied'}\n",
      "{0: {'asian': 0, 'black': 1, 'white': 2}, 1: {0: 0, 1: 1}}\n"
     ]
    }
   ],
   "source": [
    "# demographic parity of the ground truth labels for argmax\n",
    "model = RaceImputationModel([\"pred_ri_argmax\"], [\"denied\"])\n",
    "model._fit(housing_data_imputated)\n",
    "print(model.conditional_probs.items())\n",
    "print(model.col_to_name_map)\n",
    "print(model.val_to_idx)"
   ]
  },
  {
   "cell_type": "code",
   "execution_count": 27,
   "metadata": {},
   "outputs": [
    {
     "data": {
      "text/plain": [
       "{'white': 1.0, 'black': 0.9686097862222901, 'asian': 0.7241877414230156}"
      ]
     },
     "execution_count": 27,
     "metadata": {},
     "output_type": "execute_result"
    }
   ],
   "source": [
    "model.demographic_parity()"
   ]
  },
  {
   "cell_type": "code",
   "execution_count": 15,
   "metadata": {},
   "outputs": [
    {
     "name": "stdout",
     "output_type": "stream",
     "text": [
      "dict_items([((2, 0), 0.809225440709195), ((2, 1), 0.190774559290805), ((1, 1), 0.22271671826625386), ((1, 0), 0.7772832817337462), ((0, 0), 0.5598455598455598), ((0, 1), 0.44015444015444016)])\n",
      "{0: 'pred_ri_argmax_epsilon_1', 1: 'denied'}\n",
      "{0: {'asian': 0, 'black': 1, 'white': 2}, 1: {0: 0, 1: 1}}\n"
     ]
    },
    {
     "data": {
      "text/plain": [
       "{'white': 1.0, 'black': 0.9605274904018649, 'asian': 0.6918289164944175}"
      ]
     },
     "execution_count": 15,
     "metadata": {},
     "output_type": "execute_result"
    }
   ],
   "source": [
    "# demographic parity of the ground truth labels for argmax\n",
    "model = RaceImputationModel([f\"pred_ri_argmax_epsilon_{epsilon}\"], [\"denied\"])\n",
    "model._fit(dp_housing_data_imputation_comp)\n",
    "print(model.conditional_probs.items())\n",
    "print(model.col_to_name_map)\n",
    "print(model.val_to_idx)\n",
    "model.demographic_parity()"
   ]
  },
  {
   "cell_type": "code",
   "execution_count": 19,
   "metadata": {},
   "outputs": [
    {
     "data": {
      "text/plain": [
       "Index(['race', 'tract_code', 'derived_sex', 'denial_reason-1', 'denied',\n",
       "       'pred_ri_argmax_epsilon_1', 'pred_ri_sample_epsilon_1'],\n",
       "      dtype='object')"
      ]
     },
     "execution_count": 19,
     "metadata": {},
     "output_type": "execute_result"
    }
   ],
   "source": [
    "dp_housing_data_imputation_comp.columns"
   ]
  },
  {
   "cell_type": "code",
   "execution_count": 21,
   "metadata": {},
   "outputs": [
    {
     "data": {
      "text/plain": [
       "array(['white', 'black', 'asian'], dtype=object)"
      ]
     },
     "execution_count": 21,
     "metadata": {},
     "output_type": "execute_result"
    }
   ],
   "source": [
    "dp_housing_data_imputation_comp[f\"pred_ri_argmax_epsilon_{epsilon}\"].unique()"
   ]
  },
  {
   "cell_type": "code",
   "execution_count": null,
   "metadata": {},
   "outputs": [],
   "source": []
  }
 ],
 "metadata": {
  "kernelspec": {
   "display_name": "Python 3",
   "language": "python",
   "name": "python3"
  },
  "language_info": {
   "codemirror_mode": {
    "name": "ipython",
    "version": 3
   },
   "file_extension": ".py",
   "mimetype": "text/x-python",
   "name": "python",
   "nbconvert_exporter": "python",
   "pygments_lexer": "ipython3",
   "version": "3.10.12"
  }
 },
 "nbformat": 4,
 "nbformat_minor": 2
}
