{
 "cells": [
  {
   "cell_type": "markdown",
   "metadata": {},
   "source": [
    "# Data Prep and Loading"
   ]
  },
  {
   "cell_type": "code",
   "execution_count": 2,
   "metadata": {},
   "outputs": [],
   "source": [
    "# import opendp.prelude as dp\n",
    "# dp.enable_features('contrib')\n",
    "import numpy as np \n",
    "import pandas as pd\n",
    "from race_imputation.race_imputation_model import RaceImputationModel\n",
    "import data_preprocessing_utils\n",
    "# force all columns to show on head call\n",
    "pd.set_option('display.max_columns', None)\n"
   ]
  },
  {
   "cell_type": "code",
   "execution_count": 3,
   "metadata": {},
   "outputs": [
    {
     "name": "stderr",
     "output_type": "stream",
     "text": [
      "/opt/anaconda3/lib/python3.7/site-packages/pandas/core/indexing.py:494: SettingWithCopyWarning: \n",
      "A value is trying to be set on a copy of a slice from a DataFrame.\n",
      "Try using .loc[row_indexer,col_indexer] = value instead\n",
      "\n",
      "See the caveats in the documentation: http://pandas.pydata.org/pandas-docs/stable/user_guide/indexing.html#returning-a-view-versus-a-copy\n",
      "  self.obj[item] = s\n"
     ]
    },
    {
     "ename": "KeyboardInterrupt",
     "evalue": "",
     "output_type": "error",
     "traceback": [
      "\u001b[0;31m---------------------------------------------------------------------------\u001b[0m",
      "\u001b[0;31mKeyboardInterrupt\u001b[0m                         Traceback (most recent call last)",
      "\u001b[0;32m<ipython-input-3-eda450c241b0>\u001b[0m in \u001b[0;36m<module>\u001b[0;34m\u001b[0m\n\u001b[1;32m      3\u001b[0m \u001b[0;34m\u001b[0m\u001b[0m\n\u001b[1;32m      4\u001b[0m \u001b[0mimputation_model\u001b[0m \u001b[0;34m=\u001b[0m \u001b[0mRaceImputationModel\u001b[0m\u001b[0;34m(\u001b[0m\u001b[0;34m[\u001b[0m\u001b[0;34m\"tract_code\"\u001b[0m\u001b[0;34m]\u001b[0m\u001b[0;34m,\u001b[0m\u001b[0;34m[\u001b[0m\u001b[0;34m\"race\"\u001b[0m\u001b[0;34m]\u001b[0m\u001b[0;34m)\u001b[0m\u001b[0;34m\u001b[0m\u001b[0;34m\u001b[0m\u001b[0m\n\u001b[0;32m----> 5\u001b[0;31m \u001b[0mimputation_model\u001b[0m\u001b[0;34m.\u001b[0m\u001b[0m_fit\u001b[0m\u001b[0;34m(\u001b[0m\u001b[0mvoter_data_all\u001b[0m\u001b[0;34m)\u001b[0m\u001b[0;34m\u001b[0m\u001b[0;34m\u001b[0m\u001b[0m\n\u001b[0m",
      "\u001b[0;32m~/Desktop/robust/RobustFinalProject/race_imputation/race_imputation_model.py\u001b[0m in \u001b[0;36m_fit\u001b[0;34m(self, data)\u001b[0m\n\u001b[1;32m     88\u001b[0m \u001b[0;34m\u001b[0m\u001b[0m\n\u001b[1;32m     89\u001b[0m         \u001b[0;31m# Get the unique entries of each input and target column\u001b[0m\u001b[0;34m\u001b[0m\u001b[0;34m\u001b[0m\u001b[0;34m\u001b[0m\u001b[0m\n\u001b[0;32m---> 90\u001b[0;31m         \u001b[0mself\u001b[0m\u001b[0;34m.\u001b[0m\u001b[0munique_vals\u001b[0m \u001b[0;34m=\u001b[0m \u001b[0;34m{\u001b[0m\u001b[0mcol\u001b[0m\u001b[0;34m:\u001b[0m \u001b[0mnp\u001b[0m\u001b[0;34m.\u001b[0m\u001b[0munique\u001b[0m\u001b[0;34m(\u001b[0m\u001b[0mdata\u001b[0m\u001b[0;34m[\u001b[0m\u001b[0;34m:\u001b[0m\u001b[0;34m,\u001b[0m \u001b[0mcol\u001b[0m\u001b[0;34m]\u001b[0m\u001b[0;34m)\u001b[0m \u001b[0;32mfor\u001b[0m \u001b[0mcol\u001b[0m \u001b[0;32min\u001b[0m \u001b[0mrange\u001b[0m\u001b[0;34m(\u001b[0m\u001b[0mdata\u001b[0m\u001b[0;34m.\u001b[0m\u001b[0mshape\u001b[0m\u001b[0;34m[\u001b[0m\u001b[0;36m1\u001b[0m\u001b[0;34m]\u001b[0m\u001b[0;34m)\u001b[0m\u001b[0;34m}\u001b[0m\u001b[0;34m\u001b[0m\u001b[0;34m\u001b[0m\u001b[0m\n\u001b[0m\u001b[1;32m     91\u001b[0m \u001b[0;34m\u001b[0m\u001b[0m\n\u001b[1;32m     92\u001b[0m         \u001b[0;31m# Create a mapping from input/target value to index\u001b[0m\u001b[0;34m\u001b[0m\u001b[0;34m\u001b[0m\u001b[0;34m\u001b[0m\u001b[0m\n",
      "\u001b[0;32m~/Desktop/robust/RobustFinalProject/race_imputation/race_imputation_model.py\u001b[0m in \u001b[0;36m<dictcomp>\u001b[0;34m(.0)\u001b[0m\n\u001b[1;32m     88\u001b[0m \u001b[0;34m\u001b[0m\u001b[0m\n\u001b[1;32m     89\u001b[0m         \u001b[0;31m# Get the unique entries of each input and target column\u001b[0m\u001b[0;34m\u001b[0m\u001b[0;34m\u001b[0m\u001b[0;34m\u001b[0m\u001b[0m\n\u001b[0;32m---> 90\u001b[0;31m         \u001b[0mself\u001b[0m\u001b[0;34m.\u001b[0m\u001b[0munique_vals\u001b[0m \u001b[0;34m=\u001b[0m \u001b[0;34m{\u001b[0m\u001b[0mcol\u001b[0m\u001b[0;34m:\u001b[0m \u001b[0mnp\u001b[0m\u001b[0;34m.\u001b[0m\u001b[0munique\u001b[0m\u001b[0;34m(\u001b[0m\u001b[0mdata\u001b[0m\u001b[0;34m[\u001b[0m\u001b[0;34m:\u001b[0m\u001b[0;34m,\u001b[0m \u001b[0mcol\u001b[0m\u001b[0;34m]\u001b[0m\u001b[0;34m)\u001b[0m \u001b[0;32mfor\u001b[0m \u001b[0mcol\u001b[0m \u001b[0;32min\u001b[0m \u001b[0mrange\u001b[0m\u001b[0;34m(\u001b[0m\u001b[0mdata\u001b[0m\u001b[0;34m.\u001b[0m\u001b[0mshape\u001b[0m\u001b[0;34m[\u001b[0m\u001b[0;36m1\u001b[0m\u001b[0;34m]\u001b[0m\u001b[0;34m)\u001b[0m\u001b[0;34m}\u001b[0m\u001b[0;34m\u001b[0m\u001b[0;34m\u001b[0m\u001b[0m\n\u001b[0m\u001b[1;32m     91\u001b[0m \u001b[0;34m\u001b[0m\u001b[0m\n\u001b[1;32m     92\u001b[0m         \u001b[0;31m# Create a mapping from input/target value to index\u001b[0m\u001b[0;34m\u001b[0m\u001b[0;34m\u001b[0m\u001b[0;34m\u001b[0m\u001b[0m\n",
      "\u001b[0;32m<__array_function__ internals>\u001b[0m in \u001b[0;36munique\u001b[0;34m(*args, **kwargs)\u001b[0m\n",
      "\u001b[0;32m/opt/anaconda3/lib/python3.7/site-packages/numpy/lib/arraysetops.py\u001b[0m in \u001b[0;36munique\u001b[0;34m(ar, return_index, return_inverse, return_counts, axis)\u001b[0m\n\u001b[1;32m    270\u001b[0m     \u001b[0mar\u001b[0m \u001b[0;34m=\u001b[0m \u001b[0mnp\u001b[0m\u001b[0;34m.\u001b[0m\u001b[0masanyarray\u001b[0m\u001b[0;34m(\u001b[0m\u001b[0mar\u001b[0m\u001b[0;34m)\u001b[0m\u001b[0;34m\u001b[0m\u001b[0;34m\u001b[0m\u001b[0m\n\u001b[1;32m    271\u001b[0m     \u001b[0;32mif\u001b[0m \u001b[0maxis\u001b[0m \u001b[0;32mis\u001b[0m \u001b[0;32mNone\u001b[0m\u001b[0;34m:\u001b[0m\u001b[0;34m\u001b[0m\u001b[0;34m\u001b[0m\u001b[0m\n\u001b[0;32m--> 272\u001b[0;31m         \u001b[0mret\u001b[0m \u001b[0;34m=\u001b[0m \u001b[0m_unique1d\u001b[0m\u001b[0;34m(\u001b[0m\u001b[0mar\u001b[0m\u001b[0;34m,\u001b[0m \u001b[0mreturn_index\u001b[0m\u001b[0;34m,\u001b[0m \u001b[0mreturn_inverse\u001b[0m\u001b[0;34m,\u001b[0m \u001b[0mreturn_counts\u001b[0m\u001b[0;34m)\u001b[0m\u001b[0;34m\u001b[0m\u001b[0;34m\u001b[0m\u001b[0m\n\u001b[0m\u001b[1;32m    273\u001b[0m         \u001b[0;32mreturn\u001b[0m \u001b[0m_unpack_tuple\u001b[0m\u001b[0;34m(\u001b[0m\u001b[0mret\u001b[0m\u001b[0;34m)\u001b[0m\u001b[0;34m\u001b[0m\u001b[0;34m\u001b[0m\u001b[0m\n\u001b[1;32m    274\u001b[0m \u001b[0;34m\u001b[0m\u001b[0m\n",
      "\u001b[0;32m/opt/anaconda3/lib/python3.7/site-packages/numpy/lib/arraysetops.py\u001b[0m in \u001b[0;36m_unique1d\u001b[0;34m(ar, return_index, return_inverse, return_counts)\u001b[0m\n\u001b[1;32m    331\u001b[0m         \u001b[0maux\u001b[0m \u001b[0;34m=\u001b[0m \u001b[0mar\u001b[0m\u001b[0;34m[\u001b[0m\u001b[0mperm\u001b[0m\u001b[0;34m]\u001b[0m\u001b[0;34m\u001b[0m\u001b[0;34m\u001b[0m\u001b[0m\n\u001b[1;32m    332\u001b[0m     \u001b[0;32melse\u001b[0m\u001b[0;34m:\u001b[0m\u001b[0;34m\u001b[0m\u001b[0;34m\u001b[0m\u001b[0m\n\u001b[0;32m--> 333\u001b[0;31m         \u001b[0mar\u001b[0m\u001b[0;34m.\u001b[0m\u001b[0msort\u001b[0m\u001b[0;34m(\u001b[0m\u001b[0;34m)\u001b[0m\u001b[0;34m\u001b[0m\u001b[0;34m\u001b[0m\u001b[0m\n\u001b[0m\u001b[1;32m    334\u001b[0m         \u001b[0maux\u001b[0m \u001b[0;34m=\u001b[0m \u001b[0mar\u001b[0m\u001b[0;34m\u001b[0m\u001b[0;34m\u001b[0m\u001b[0m\n\u001b[1;32m    335\u001b[0m     \u001b[0mmask\u001b[0m \u001b[0;34m=\u001b[0m \u001b[0mnp\u001b[0m\u001b[0;34m.\u001b[0m\u001b[0mempty\u001b[0m\u001b[0;34m(\u001b[0m\u001b[0maux\u001b[0m\u001b[0;34m.\u001b[0m\u001b[0mshape\u001b[0m\u001b[0;34m,\u001b[0m \u001b[0mdtype\u001b[0m\u001b[0;34m=\u001b[0m\u001b[0mnp\u001b[0m\u001b[0;34m.\u001b[0m\u001b[0mbool_\u001b[0m\u001b[0;34m)\u001b[0m\u001b[0;34m\u001b[0m\u001b[0;34m\u001b[0m\u001b[0m\n",
      "\u001b[0;31mKeyboardInterrupt\u001b[0m: "
     ]
    }
   ],
   "source": [
    "voter_data_all = pd.read_csv('./data/combined_nc.csv')\n",
    "voter_data = data_preprocessing_utils.prep_voter_dataframe(voter_data_all)\n",
    "\n",
    "imputation_model = RaceImputationModel([\"tract_code\"],[\"race\"])\n",
    "imputation_model._fit(voter_data_all)"
   ]
  },
  {
   "cell_type": "code",
   "execution_count": 25,
   "metadata": {},
   "outputs": [
    {
     "name": "stderr",
     "output_type": "stream",
     "text": [
      "C:\\Users\\14129\\AppData\\Local\\Temp\\ipykernel_17636\\1365486614.py:1: DtypeWarning: Columns (22,23,24,26,27,28,29,30,31,32,33,38,43,44) have mixed types. Specify dtype option on import or set low_memory=False.\n",
      "  housing_data_all = pd.read_csv('./data/hmda_nc.csv')\n",
      "c:\\Users\\14129\\Documents\\GitHub\\RobustFinalProject\\data_preprocessing_utils.py:39: SettingWithCopyWarning: \n",
      "A value is trying to be set on a copy of a slice from a DataFrame\n",
      "\n",
      "See the caveats in the documentation: https://pandas.pydata.org/pandas-docs/stable/user_guide/indexing.html#returning-a-view-versus-a-copy\n",
      "  housing_data.rename(columns={'derived_race': 'race', \"census_tract\":\"tract_code\"}, inplace=True)\n"
     ]
    },
    {
     "name": "stdout",
     "output_type": "stream",
     "text": [
      "['020800' '041100' '042300' ... '010709' '001927' '980300']\n"
     ]
    }
   ],
   "source": [
    "housing_data_all = pd.read_csv('./data/hmda_nc.csv')\n",
    "housing_data = data_preprocessing_utils.prep_housing_dataframe(housing_data_all)\n",
    "\n",
    "print(housing_data['tract_code'].unique())\n"
   ]
  },
  {
   "cell_type": "code",
   "execution_count": 26,
   "metadata": {},
   "outputs": [
    {
     "data": {
      "text/plain": [
       "array(['Race Not Available', 'black', 'white', 'asian', 'Joint',\n",
       "       'Native Hawaiian or Other Pacific Islander',\n",
       "       'American Indian or Alaska Native', '2 or more minority races',\n",
       "       'other'], dtype=object)"
      ]
     },
     "execution_count": 26,
     "metadata": {},
     "output_type": "execute_result"
    }
   ],
   "source": [
    "counts = housing_data[\"race\"].value_counts()\n",
    "# get the proportion of each\n",
    "proportions = counts/counts.sum()\n",
    "housing_data[\"race\"].unique()"
   ]
  },
  {
   "cell_type": "code",
   "execution_count": 27,
   "metadata": {},
   "outputs": [
    {
     "data": {
      "text/plain": [
       "race\n",
       "white                                        0.720196\n",
       "Race Not Available                           0.000000\n",
       "black                                        0.176173\n",
       "asian                                        0.064581\n",
       "Joint                                        0.022799\n",
       "American Indian or Alaska Native             0.010384\n",
       "2 or more minority races                     0.003474\n",
       "Native Hawaiian or Other Pacific Islander    0.002079\n",
       "other                                        0.000313\n",
       "Name: count, dtype: float64"
      ]
     },
     "execution_count": 27,
     "metadata": {},
     "output_type": "execute_result"
    }
   ],
   "source": [
    "# Get the true proportions of race in the dataset, ignore Race Not Available\n",
    "counts[\"Race Not Available\"] = 0\n",
    "proportions = counts/counts.sum()\n",
    "proportions"
   ]
  },
  {
   "cell_type": "code",
   "execution_count": 4,
   "metadata": {},
   "outputs": [
    {
     "name": "stdout",
     "output_type": "stream",
     "text": [
      "['white' 'black' 'asian']\n",
      "accuracy_argmax:  0.7268935079726652\n",
      "accuracy_sample:  0.6100256264236902\n",
      "accuracy_threshold_25:  0.7268935079726652\n",
      "accuracy_threshold_50:  0.7069561503416857\n",
      "accuracy_threshold_75:  0.49005410022779045\n",
      "accuracy_threshold_95:  0.009658314350797266\n"
     ]
    }
   ],
   "source": [
    "housing_data_imputated = pd.read_csv('./data/hmda_nc_ri.csv')\n",
    "\n",
    "# get the accuracies of the imputations\n",
    "dp_housing_data_imputation_comp = housing_data_imputated[housing_data_imputated[\"race\"]!= \"Race Not Available\"]\n",
    "print(dp_housing_data_imputation_comp[\"pred_ri_argmax\"].unique())\n",
    "accuracy_argmax = sum(dp_housing_data_imputation_comp[\"pred_ri_argmax\"] == dp_housing_data_imputation_comp[\"race\"])/len(dp_housing_data_imputation_comp)\n",
    "accuracy_sample = sum(dp_housing_data_imputation_comp[\"pred_ri_sample\"] == dp_housing_data_imputation_comp[\"race\"])/len(dp_housing_data_imputation_comp)\n",
    "accuracy_threshold_25 = sum(dp_housing_data_imputation_comp[\"pred_ri_threshold_25\"] == dp_housing_data_imputation_comp[\"race\"])/len(dp_housing_data_imputation_comp)\n",
    "accuracy_threshold_50 = sum(dp_housing_data_imputation_comp[\"pred_ri_threshold_5\"] == dp_housing_data_imputation_comp[\"race\"])/len(dp_housing_data_imputation_comp)\n",
    "accuracy_threshold_75 = sum(dp_housing_data_imputation_comp[\"pred_ri_threshold_75\"] == dp_housing_data_imputation_comp[\"race\"])/len(dp_housing_data_imputation_comp)\n",
    "accuracy_threshold_95 = sum(dp_housing_data_imputation_comp[\"pred_ri_threshold_95\"] == dp_housing_data_imputation_comp[\"race\"])/len(dp_housing_data_imputation_comp)\n",
    "print(\"accuracy_argmax: \", accuracy_argmax)\n",
    "print(\"accuracy_sample: \", accuracy_sample)\n",
    "print(\"accuracy_threshold_25: \", accuracy_threshold_25)\n",
    "print(\"accuracy_threshold_50: \", accuracy_threshold_50)\n",
    "print(\"accuracy_threshold_75: \", accuracy_threshold_75)\n",
    "print(\"accuracy_threshold_95: \", accuracy_threshold_95)"
   ]
  },
  {
   "cell_type": "code",
   "execution_count": 14,
   "metadata": {},
   "outputs": [
    {
     "name": "stdout",
     "output_type": "stream",
     "text": [
      "Epsilon: 0.1\n",
      "accuracy_argmax:  0.056759681093394077\n",
      "accuracy_sample:  0.07084567198177677\n",
      "accuracy_threshold_25:  0.0\n",
      "accuracy_threshold_50:  0.0\n",
      "accuracy_threshold_75:  0.0\n",
      "accuracy_threshold_95:  0.0\n",
      "Epsilon: 0.5\n",
      "accuracy_argmax:  0.05560364464692483\n",
      "accuracy_sample:  0.06588838268792711\n",
      "accuracy_threshold_25:  8.542141230068338e-06\n",
      "accuracy_threshold_50:  5.694760820045558e-06\n",
      "accuracy_threshold_75:  5.694760820045558e-06\n",
      "accuracy_threshold_95:  0.0\n",
      "Epsilon: 1.0\n",
      "accuracy_argmax:  0.06216116173120729\n",
      "accuracy_sample:  0.07254555808656037\n",
      "accuracy_threshold_25:  4.555808656036447e-05\n",
      "accuracy_threshold_50:  2.2779043280182233e-05\n",
      "accuracy_threshold_75:  1.4236902050113896e-05\n",
      "accuracy_threshold_95:  1.4236902050113896e-05\n",
      "Epsilon: 2.0\n",
      "accuracy_argmax:  0.059982915717539866\n",
      "accuracy_sample:  0.07180239179954442\n",
      "accuracy_threshold_25:  0.00019646924829157174\n",
      "accuracy_threshold_50:  9.965831435079726e-05\n",
      "accuracy_threshold_75:  6.548974943052391e-05\n",
      "accuracy_threshold_95:  6.264236902050114e-05\n"
     ]
    }
   ],
   "source": [
    "# Load the imputed housing data\n",
    "dp_housing_data_imputated = pd.read_csv('./data/hmda_nc_dp_ri_results.csv')\n",
    "\n",
    "# get the accuracies of the imputations\n",
    "dp_housing_data_imputation_comp = dp_housing_data_imputated[dp_housing_data_imputated[\"race\"] != \"Race Not Available\"]\n",
    "\n",
    "# Define epsilon thresholds\n",
    "epsilon_thresholds = [0.1, 0.5, 1.0, 2.0]  # Example epsilon values\n",
    "accuracies = {}\n",
    "\n",
    "# Loop through each epsilon threshold\n",
    "for epsilon in epsilon_thresholds:\n",
    "    # Calculate accuracies for each threshold\n",
    "    accuracy_argmax = sum(dp_housing_data_imputation_comp[f\"pred_ri_argmax_epsilon_{epsilon}\"] == dp_housing_data_imputation_comp[\"race\"]) / len(dp_housing_data_imputation_comp)\n",
    "    accuracy_sample = sum(dp_housing_data_imputation_comp[f\"pred_ri_sample_epsilon_{epsilon}\"] == dp_housing_data_imputation_comp[\"race\"]) / len(dp_housing_data_imputation_comp)\n",
    "    accuracy_threshold_25 = sum(dp_housing_data_imputation_comp[f\"pred_ri_threshold_0.25_epsilon_{epsilon}\"] == dp_housing_data_imputation_comp[\"race\"]) / len(dp_housing_data_imputation_comp)\n",
    "    accuracy_threshold_50 = sum(dp_housing_data_imputation_comp[f\"pred_ri_threshold_0.5_epsilon_{epsilon}\"] == dp_housing_data_imputation_comp[\"race\"]) / len(dp_housing_data_imputation_comp)\n",
    "    accuracy_threshold_75 = sum(dp_housing_data_imputation_comp[f\"pred_ri_threshold_0.75_epsilon_{epsilon}\"] == dp_housing_data_imputation_comp[\"race\"]) / len(dp_housing_data_imputation_comp)\n",
    "    accuracy_threshold_95 = sum(dp_housing_data_imputation_comp[f\"pred_ri_threshold_0.95_epsilon_{epsilon}\"] == dp_housing_data_imputation_comp[\"race\"]) / len(dp_housing_data_imputation_comp)\n",
    "\n",
    "    # Store accuracies for the current epsilon\n",
    "    accuracies[epsilon] = {\n",
    "        \"accuracy_argmax\": accuracy_argmax,\n",
    "        \"accuracy_sample\": accuracy_sample,\n",
    "        \"accuracy_threshold_25\": accuracy_threshold_25,\n",
    "        \"accuracy_threshold_50\": accuracy_threshold_50,\n",
    "        \"accuracy_threshold_75\": accuracy_threshold_75,\n",
    "        \"accuracy_threshold_95\": accuracy_threshold_95,\n",
    "    }\n",
    "\n",
    "# Print accuracies for each epsilon threshold\n",
    "for epsilon, accuracy in accuracies.items():\n",
    "    print(f\"Epsilon: {epsilon}\")\n",
    "    print(\"accuracy_argmax: \", accuracy[\"accuracy_argmax\"])\n",
    "    print(\"accuracy_sample: \", accuracy[\"accuracy_sample\"])\n",
    "    print(\"accuracy_threshold_25: \", accuracy[\"accuracy_threshold_25\"])\n",
    "    print(\"accuracy_threshold_50: \", accuracy[\"accuracy_threshold_50\"])\n",
    "    print(\"accuracy_threshold_75: \", accuracy[\"accuracy_threshold_75\"])\n",
    "    print(\"accuracy_threshold_95: \", accuracy[\"accuracy_threshold_95\"])"
   ]
  },
  {
   "cell_type": "code",
   "execution_count": 28,
   "metadata": {},
   "outputs": [
    {
     "name": "stdout",
     "output_type": "stream",
     "text": [
      "dict_items([((5, 0), 0.7089151797258857), ((7, 0), 0.8270134778775406), ((7, 1), 0.1729865221224593), ((4, 0), 0.8709051629116882), ((5, 1), 0.2910848202741143), ((2, 0), 0.8327713250905457), ((3, 0), 0.678082191780822), ((1, 1), 0.33205374280230326), ((2, 1), 0.16722867490945423), ((0, 0), 0.6959016393442623), ((4, 1), 0.1290948370883118), ((1, 0), 0.6679462571976967), ((0, 1), 0.3040983606557377), ((3, 1), 0.3219178082191781), ((6, 1), 0.38181818181818183), ((6, 0), 0.6181818181818182)])\n",
      "{0: 'race', 1: 'denied'}\n",
      "{0: {'2 or more minority races': 0, 'American Indian or Alaska Native': 1, 'Joint': 2, 'Native Hawaiian or Other Pacific Islander': 3, 'asian': 4, 'black': 5, 'other': 6, 'white': 7}, 1: {0: 0, 1: 1}}\n"
     ]
    }
   ],
   "source": [
    "# demographic parity of the ground truth labels for argmax\n",
    "model = RaceImputationModel([\"race\"], [\"denied\"])\n",
    "model._fit(dp_housing_data_imputation_comp)\n",
    "print(model.conditional_probs.items())\n",
    "print(model.col_to_name_map)\n",
    "print(model.val_to_idx)"
   ]
  },
  {
   "cell_type": "code",
   "execution_count": 33,
   "metadata": {},
   "outputs": [
    {
     "ename": "AttributeError",
     "evalue": "'RaceImputationModel' object has no attribute 'demographic_parity'",
     "output_type": "error",
     "traceback": [
      "\u001b[1;31m---------------------------------------------------------------------------\u001b[0m",
      "\u001b[1;31mAttributeError\u001b[0m                            Traceback (most recent call last)",
      "Cell \u001b[1;32mIn[33], line 1\u001b[0m\n\u001b[1;32m----> 1\u001b[0m \u001b[43mmodel\u001b[49m\u001b[38;5;241;43m.\u001b[39;49m\u001b[43mdemographic_parity\u001b[49m()\n",
      "\u001b[1;31mAttributeError\u001b[0m: 'RaceImputationModel' object has no attribute 'demographic_parity'"
     ]
    }
   ],
   "source": [
    "model.demographic_parity()"
   ]
  }
 ],
 "metadata": {
  "kernelspec": {
   "display_name": "robust_env",
   "language": "python",
   "name": "python3"
  },
  "language_info": {
   "codemirror_mode": {
    "name": "ipython",
    "version": 3
   },
   "file_extension": ".py",
   "mimetype": "text/x-python",
   "name": "python",
   "nbconvert_exporter": "python",
   "pygments_lexer": "ipython3",
   "version": "3.7.6"
  }
 },
 "nbformat": 4,
 "nbformat_minor": 2
}
