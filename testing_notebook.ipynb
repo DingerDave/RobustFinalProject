{
 "cells": [
  {
   "cell_type": "markdown",
   "metadata": {},
   "source": [
    "# Data Prep and Loading"
   ]
  },
  {
   "cell_type": "code",
   "execution_count": 1,
   "metadata": {},
   "outputs": [],
   "source": [
    "import opendp.prelude as dp\n",
    "dp.enable_features('contrib')\n",
    "import numpy as np \n",
    "import pandas as pd\n",
    "from race_imputation.race_imputation_model import RaceImputationModel\n",
    "import data_preprocessing_utils\n",
    "# force all columns to show on head call\n",
    "pd.set_option('display.max_columns', None)\n"
   ]
  },
  {
   "cell_type": "code",
   "execution_count": null,
   "metadata": {},
   "outputs": [
    {
     "name": "stderr",
     "output_type": "stream",
     "text": [
      "C:\\Users\\14129\\AppData\\Local\\Temp\\ipykernel_25088\\2586407647.py:3: FutureWarning: ChainedAssignmentError: behaviour will change in pandas 3.0!\n",
      "You are setting values through chained assignment. Currently this works in certain cases, but when using Copy-on-Write (which will become the default behaviour in pandas 3.0) this will never work to update the original DataFrame or Series, because the intermediate object on which we are setting values will behave as a copy.\n",
      "A typical example is when you are setting values in a column of a DataFrame, like:\n",
      "\n",
      "df[\"col\"][row_indexer] = value\n",
      "\n",
      "Use `df.loc[row_indexer, \"col\"] = values` instead, to perform the assignment in a single step and ensure this keeps updating the original `df`.\n",
      "\n",
      "See the caveats in the documentation: https://pandas.pydata.org/pandas-docs/stable/user_guide/indexing.html#returning-a-view-versus-a-copy\n",
      "\n",
      "  voter_data[\"race\"][voter_data[\"race\"]==\"aian\"] = \"asian\"\n"
     ]
    }
   ],
   "source": [
    "voter_data_all = pd.read_csv('./data/combined_nc.csv')\n",
    "voter_data = data_preprocessing_utils.prep_voter_dataframe(voter_data_all)\n",
    "\n",
    "# imputation_model = RaceImputationModel([\"tract_code\"],[\"race\"])\n",
    "# imputation_model._fit(voter_data_all)"
   ]
  },
  {
   "cell_type": "code",
   "execution_count": null,
   "metadata": {},
   "outputs": [
    {
     "name": "stdout",
     "output_type": "stream",
     "text": [
      "race\n",
      "white    3747193\n",
      "black    1011595\n",
      "hisp      155719\n",
      "asian      88419\n",
      "other      87071\n",
      "Name: count, dtype: int64\n"
     ]
    }
   ],
   "source": [
    "voter_data.loc[voter_data[\"race\"]==\"aian\", \"race\"] = \"asian\"\n"
   ]
  },
  {
   "cell_type": "code",
   "execution_count": 25,
   "metadata": {},
   "outputs": [
    {
     "ename": "SyntaxError",
     "evalue": "unmatched ']' (2633066039.py, line 5)",
     "output_type": "error",
     "traceback": [
      "\u001b[1;36m  Cell \u001b[1;32mIn[25], line 5\u001b[1;36m\u001b[0m\n\u001b[1;33m    housing_data[]\"race\"].unique()\u001b[0m\n\u001b[1;37m                        ^\u001b[0m\n\u001b[1;31mSyntaxError\u001b[0m\u001b[1;31m:\u001b[0m unmatched ']'\n"
     ]
    }
   ],
   "source": [
    "housing_data_all = pd.read_csv('./data/hmda_nc.csv')\n",
    "housing_data = data_preprocessing_utils.prep_housing_dataframe(housing_data_all)\n",
    "\n",
    "print(housing_data['tract_code'].unique())\n"
   ]
  },
  {
   "cell_type": "code",
   "execution_count": 28,
   "metadata": {},
   "outputs": [
    {
     "data": {
      "text/plain": [
       "array(['Race Not Available', 'Black or African American', 'White',\n",
       "       'Asian', 'Joint', 'Native Hawaiian or Other Pacific Islander',\n",
       "       'American Indian or Alaska Native', '2 or more minority races',\n",
       "       'Free Form Text Only'], dtype=object)"
      ]
     },
     "execution_count": 28,
     "metadata": {},
     "output_type": "execute_result"
    }
   ],
   "source": [
    "counts = housing_data[\"race\"].value_counts()\n",
    "# get the proportion of each\n",
    "proportions = counts/counts.sum()\n",
    "housing_data[\"race\"].unique()"
   ]
  },
  {
   "cell_type": "code",
   "execution_count": 9,
   "metadata": {},
   "outputs": [
    {
     "data": {
      "text/plain": [
       "race\n",
       "White                                        0.720196\n",
       "Race Not Available                           0.000000\n",
       "Black or African American                    0.176173\n",
       "Asian                                        0.064581\n",
       "Joint                                        0.022799\n",
       "American Indian or Alaska Native             0.010384\n",
       "2 or more minority races                     0.003474\n",
       "Native Hawaiian or Other Pacific Islander    0.002079\n",
       "Free Form Text Only                          0.000313\n",
       "Name: count, dtype: float64"
      ]
     },
     "execution_count": 9,
     "metadata": {},
     "output_type": "execute_result"
    }
   ],
   "source": [
    "# Get the true proportions of race in the dataset, ignore Race Not Available\n",
    "counts[\"Race Not Available\"] = 0\n",
    "proportions = counts/counts.sum()\n",
    "proportions"
   ]
  },
  {
   "cell_type": "code",
   "execution_count": 18,
   "metadata": {},
   "outputs": [
    {
     "name": "stdout",
     "output_type": "stream",
     "text": [
      "['white' 'black' 'aian']\n",
      "accuracy_argmax:  0.0\n",
      "accuracy_sample:  0\n",
      "accuracy_threshold_25:  0\n",
      "accuracy_threshold_50:  0\n",
      "accuracy_threshold_75:  0\n",
      "accuracy_threshold_95:  0\n"
     ]
    }
   ],
   "source": [
    "housing_data_imputated = pd.read_csv('./data/hmda_nc_ri.csv')\n",
    "\n",
    "# get the accuracies of the imputations\n",
    "housing_data_imputation_comp = housing_data_imputated[housing_data_imputated[\"race\"]!= \"Race Not Available\"]\n",
    "print(housing_data_imputation_comp[\"pred_ri_argmax\"].unique())\n",
    "accuracy_argmax = sum(housing_data_imputation_comp[\"pred_ri_argmax\"] == housing_data_imputation_comp[\"race\"])/len(housing_data_imputation_comp)\n",
    "accuracy_sample = sum(housing_data_imputation_comp[\"pred_ri_sample\"] == housing_data_imputation_comp[\"race\"])\n",
    "accuracy_threshold_25 = sum(housing_data_imputation_comp[\"pred_ri_threshold_25\"] == housing_data_imputation_comp[\"race\"])\n",
    "accuracy_threshold_50 = sum(housing_data_imputation_comp[\"pred_ri_threshold_5\"] == housing_data_imputation_comp[\"race\"])\n",
    "accuracy_threshold_75 = sum(housing_data_imputation_comp[\"pred_ri_threshold_75\"] == housing_data_imputation_comp[\"race\"])\n",
    "accuracy_threshold_95 = sum(housing_data_imputation_comp[\"pred_ri_threshold_95\"] == housing_data_imputation_comp[\"race\"])\n",
    "print(\"accuracy_argmax: \", accuracy_argmax)\n",
    "print(\"accuracy_sample: \", accuracy_sample)\n",
    "print(\"accuracy_threshold_25: \", accuracy_threshold_25)\n",
    "print(\"accuracy_threshold_50: \", accuracy_threshold_50)\n",
    "print(\"accuracy_threshold_75: \", accuracy_threshold_75)\n",
    "print(\"accuracy_threshold_95: \", accuracy_threshold_95)"
   ]
  }
 ],
 "metadata": {
  "kernelspec": {
   "display_name": "robust_env",
   "language": "python",
   "name": "python3"
  },
  "language_info": {
   "codemirror_mode": {
    "name": "ipython",
    "version": 3
   },
   "file_extension": ".py",
   "mimetype": "text/x-python",
   "name": "python",
   "nbconvert_exporter": "python",
   "pygments_lexer": "ipython3",
   "version": "3.11.9"
  }
 },
 "nbformat": 4,
 "nbformat_minor": 2
}
